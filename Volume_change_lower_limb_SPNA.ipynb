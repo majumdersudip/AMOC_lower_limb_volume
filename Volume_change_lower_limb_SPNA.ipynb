{
 "cells": [
  {
   "cell_type": "markdown",
   "metadata": {},
   "source": [
    "# Calculation of lower-limb dvdt between OSNAP East and GSR line\n",
    "\n"
   ]
  },
  {
   "cell_type": "code",
   "execution_count": 267,
   "metadata": {},
   "outputs": [],
   "source": [
    "import numpy as np\n",
    "import xarray as xr\n",
    "import scipy as sc\n",
    "import matplotlib.pylab as plt\n",
    "from scipy import interpolate"
   ]
  },
  {
   "cell_type": "markdown",
   "metadata": {},
   "source": [
    "# load data"
   ]
  },
  {
   "cell_type": "code",
   "execution_count": 227,
   "metadata": {},
   "outputs": [],
   "source": [
    "path='/Users/smajumder38/Desktop/Research/data/'\n",
    "ds1=xr.open_dataset(path+'vozocrtx_cglors.nc')\n",
    "ds2=xr.open_dataset(path+'vomecrty_cglors.nc')\n",
    "ds3=xr.open_dataset(path+'vosaline_cglors.nc')\n",
    "ds4=xr.open_dataset(path+'votemper_cglors.nc')\n"
   ]
  },
  {
   "cell_type": "markdown",
   "metadata": {},
   "source": [
    "## Estimating potential density"
   ]
  },
  {
   "cell_type": "markdown",
   "metadata": {},
   "source": [
    "import seawater as sw\n",
    "from seawater.library import T90conv\n",
    "\n"
   ]
  },
  {
   "cell_type": "code",
   "execution_count": 228,
   "metadata": {},
   "outputs": [],
   "source": [
    "import seawater as sw\n",
    "from seawater.library import T90conv\n"
   ]
  },
  {
   "cell_type": "code",
   "execution_count": 229,
   "metadata": {},
   "outputs": [],
   "source": [
    "t = ds4.votemper\n",
    "s = ds3.vosaline\n",
    "t1 = T90conv(t)\n",
    "t=t-273.14\n",
    "time=ds4.time\n"
   ]
  },
  {
   "cell_type": "code",
   "execution_count": 230,
   "metadata": {},
   "outputs": [],
   "source": [
    "def geo_area(lat,lon):\n",
    "    \n",
    "    for i_n in range(len(lon)-1):\n",
    "        for i_m in range(len(lat)-1):\n",
    "            \n",
    "            lat1 = lat[i_m]; lat2 = lat[i_m+1]\n",
    "            lon1 = lon[i_n]; lon2 = lon[i_n+1]\n",
    "            d_x = (lon2-lon1)*(np.pi/180)*6370000*np.cos(0.5*(lat1+lat2)*np.pi/180)\n",
    "            d_y = (lat2-lat1)*(np.pi/180)*6370000\n",
    "            area[i_n,i_m]=d_x*d_y\n",
    "            \n",
    "            return area\n",
    "    \n",
    "  "
   ]
  },
  {
   "cell_type": "code",
   "execution_count": 231,
   "metadata": {},
   "outputs": [],
   "source": [
    "lon=ds1.lon\n",
    "lat=ds1.lat\n",
    "lat1=lat[(lat>50) & (lat<65)] \n",
    "lon1=lon[(lon>-40) & (lon<0)] "
   ]
  },
  {
   "cell_type": "code",
   "execution_count": 232,
   "metadata": {},
   "outputs": [],
   "source": [
    "a=geo_area(lat1,lon1)"
   ]
  },
  {
   "cell_type": "code",
   "execution_count": 233,
   "metadata": {},
   "outputs": [],
   "source": [
    "t1=t[:,:,(lat>50) & (lat<65),(lon>-40) & (lon<0)]\n",
    "s1=s[:,:,(lat>50) & (lat<65),(lon>-40) & (lon<0)]\n",
    "\n",
    "pden=np.empty(t1.shape)\n",
    "pden[:] = np.nan\n"
   ]
  },
  {
   "cell_type": "markdown",
   "metadata": {},
   "source": [
    "## calculate potential density and then depth of that isopycnal (overturning isopycnal)"
   ]
  },
  {
   "cell_type": "code",
   "execution_count": 258,
   "metadata": {},
   "outputs": [],
   "source": [
    "z1=np.empty([s1.shape[0],s1.shape[2],s1.shape[3]])\n",
    "for i in range(s1.shape[0]):\n",
    "    for j in range(s1.shape[2]):\n",
    "        for k in range(s1.shape[3]):\n",
    "            pden=sw.pden(s1[i,:,j,k], t1[i,:,j,k], ds1.dep)-1000\n",
    "            \n",
    "            if pden[0]<27.55:\n",
    "                f = interpolate.interp1d(pden,ds1.dep)\n",
    "                z1[i,j,k] = f(27.55) \n",
    "         "
   ]
  },
  {
   "cell_type": "markdown",
   "metadata": {},
   "source": [
    "## Time mean depth of overturning isopycnal"
   ]
  },
  {
   "cell_type": "code",
   "execution_count": 278,
   "metadata": {},
   "outputs": [],
   "source": [
    "z2=np.mean(z1,axis=0)"
   ]
  },
  {
   "cell_type": "code",
   "execution_count": 279,
   "metadata": {},
   "outputs": [
    {
     "data": {
      "text/plain": [
       "Text(0.5, 1.0, 'Mean depth of 27.55kg/m^3 isopycnal')"
      ]
     },
     "execution_count": 279,
     "metadata": {},
     "output_type": "execute_result"
    },
    {
     "data": {
      "image/png": "[encoded data removed]",
      "text/plain": [
       "<Figure size 432x288 with 2 Axes>"
      ]
     },
     "metadata": {
      "needs_background": "light"
     },
     "output_type": "display_data"
    }
   ],
   "source": [
    "plt.contourf(lon1,lat1,z2)\n",
    "plt.colorbar()\n",
    "plt.title('')\n",
    "plt.xlabel('longitude')\n",
    "plt.ylabel('latitude')\n",
    "plt.title('Mean depth of 27.55kg/m^3 isopycnal')"
   ]
  },
  {
   "cell_type": "code",
   "execution_count": null,
   "metadata": {},
   "outputs": [],
   "source": []
  }
 ],
 "metadata": {
  "kernelspec": {
   "display_name": "Python 3",
   "language": "python",
   "name": "python3"
  },
  "language_info": {
   "codemirror_mode": {
    "name": "ipython",
    "version": 3
   },
   "file_extension": ".py",
   "mimetype": "text/x-python",
   "name": "python",
   "nbconvert_exporter": "python",
   "pygments_lexer": "ipython3",
   "version": "3.7.6"
  }
 },
 "nbformat": 4,
 "nbformat_minor": 4
}
